{
  "nbformat": 4,
  "nbformat_minor": 0,
  "metadata": {
    "colab": {
      "name": "homework.ipynb",
      "provenance": [],
      "collapsed_sections": [],
      "include_colab_link": true
    },
    "kernelspec": {
      "name": "python3",
      "display_name": "Python 3"
    }
  },
  "cells": [
    {
      "cell_type": "markdown",
      "metadata": {
        "id": "view-in-github",
        "colab_type": "text"
      },
      "source": [
        "<a href=\"https://colab.research.google.com/github/HM-777/Othello/blob/master/homework.ipynb\" target=\"_parent\"><img src=\"https://colab.research.google.com/assets/colab-badge.svg\" alt=\"Open In Colab\"/></a>"
      ]
    },
    {
      "cell_type": "markdown",
      "metadata": {
        "id": "JjLYrVJ7Vjc8"
      },
      "source": [
        "# scikit-learn付属のデータセットの読み込み（boston house-prices dataset）\n",
        "* <https://scikit-learn.org/stable/modules/generated/sklearn.datasets.load_boston.html#sklearn.datasets.load_boston>\n",
        "* 回帰問題であることに注意\n"
      ]
    },
    {
      "cell_type": "code",
      "metadata": {
        "id": "RVAqp58FVhv6"
      },
      "source": [
        "import numpy as np\n",
        "import sklearn\n",
        "from sklearn.datasets import load_boston\n",
        "boston_data = sklearn.datasets.load_boston()"
      ],
      "execution_count": null,
      "outputs": []
    },
    {
      "cell_type": "code",
      "metadata": {
        "id": "OmaLaPFzVq8N"
      },
      "source": [
        "# データセットを学習用とテスト用に分ける\n",
        "N = len(boston_data.data)\n",
        "index = np.arange(N)\n",
        "np.random.seed(2020)\n",
        "np.random.shuffle(index)\n",
        "\n",
        "# 訓練データ（8割を訓練データに）\n",
        "X_train, t_train = boston_data.data[index[:int(0.8*N)]], boston_data.target[index[:int(0.8*N)]]\n",
        "# テスト用データ（残りの2割） ** テストデータはモデルの最終評価のために使う（本来は学習やモデルチューニングに使ってはいけない） **\n",
        "X_test, t_test = boston_data.data[index[int(0.8*N):]], boston_data.target[index[int(0.8*N):]]"
      ],
      "execution_count": null,
      "outputs": []
    },
    {
      "cell_type": "code",
      "metadata": {
        "id": "1_8sQgdFYCKh"
      },
      "source": [
        ""
      ],
      "execution_count": null,
      "outputs": []
    },
    {
      "cell_type": "markdown",
      "metadata": {
        "id": "wpWYhVxiawCq"
      },
      "source": [
        "* 精度の評価には例えば平均二乗誤差を使いましょう\n",
        "```\n",
        "# 使用例\n",
        "from sklearn.metrics import mean_squared_error\n",
        "mean_squared_error(predict, t_test)\n",
        "```"
      ]
    },
    {
      "cell_type": "code",
      "metadata": {
        "id": "IY66klD2atW-"
      },
      "source": [
        ""
      ],
      "execution_count": null,
      "outputs": []
    },
    {
      "cell_type": "markdown",
      "metadata": {
        "id": "MSefcB8pWeEL"
      },
      "source": [
        "# 宿題\n",
        "* boston house-prices datasetに対して機械学習アルゴリズムを適用してください\n",
        "* アルゴリズムは何でも良いですが，できるだけ予測精度が高くなるように頑張ってみましょう\n",
        "* 特徴量を工夫してみるというのも良いでしょう\n",
        "* 工夫した点，難しかった点，その他授業の感想・要望などをコメントとして記入するようにしてください\n",
        "* 授業支援システムから拡張子 `.ipynb` 形式のファイルを提出してください\n",
        "    * Colaboratoryでプログラムを作成後に，上のメニューの「ファイル」から「.ipynbをダウンロード」を選択することで保存できます"
      ]
    },
    {
      "cell_type": "code",
      "metadata": {
        "id": "Y6CyXulqWhT1"
      },
      "source": [
        ""
      ],
      "execution_count": null,
      "outputs": []
    },
    {
      "cell_type": "code",
      "metadata": {
        "id": "10SbT8BUbpz_"
      },
      "source": [
        ""
      ],
      "execution_count": null,
      "outputs": []
    }
  ]
}